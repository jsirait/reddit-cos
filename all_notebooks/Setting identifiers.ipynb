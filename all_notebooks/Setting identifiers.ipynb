{
 "cells": [
  {
   "cell_type": "markdown",
   "id": "0e1928c4-0418-428f-afd7-736069aaea4f",
   "metadata": {},
   "source": [
    "# Setting id's for newssources and subreddits"
   ]
  },
  {
   "cell_type": "code",
   "execution_count": 1,
   "id": "c5308e2e-9673-4e73-a357-fe67a59a93af",
   "metadata": {},
   "outputs": [],
   "source": [
    "import json\n",
    "import os"
   ]
  },
  {
   "cell_type": "code",
   "execution_count": 3,
   "id": "4c484235-efd1-4e06-8222-a7b736557e62",
   "metadata": {},
   "outputs": [],
   "source": [
    "subreddits_path = \"data/subreddits2189.json\"\n",
    "newssources_path = \"data/newssources2647.json\""
   ]
  },
  {
   "cell_type": "code",
   "execution_count": 4,
   "id": "92148936-4733-47d6-9d6e-d9f3b366d088",
   "metadata": {},
   "outputs": [
    {
     "data": {
      "text/plain": [
       "2189"
      ]
     },
     "execution_count": 4,
     "metadata": {},
     "output_type": "execute_result"
    }
   ],
   "source": [
    "subreddits = json.load(open(subreddits_path))\n",
    "len(subreddits)"
   ]
  },
  {
   "cell_type": "code",
   "execution_count": 5,
   "id": "c38124c3-42a1-4088-82e1-d2f94fc5b929",
   "metadata": {},
   "outputs": [
    {
     "data": {
      "text/plain": [
       "2647"
      ]
     },
     "execution_count": 5,
     "metadata": {},
     "output_type": "execute_result"
    }
   ],
   "source": [
    "newssources = json.load(open(newssources_path))\n",
    "len(newssources)"
   ]
  },
  {
   "cell_type": "code",
   "execution_count": 6,
   "id": "8614b277-1c9b-4cd4-a6fe-52494b8fd64c",
   "metadata": {},
   "outputs": [],
   "source": [
    "subreddit_id = dict()\n",
    "id_subreddit = dict()\n",
    "\n",
    "for i,v in enumerate(subreddits):\n",
    "    subreddit_id[v] = i\n",
    "    id_subreddit[i] = v"
   ]
  },
  {
   "cell_type": "code",
   "execution_count": 8,
   "id": "3f629ea7-ea4b-442b-8ecf-7ffb2bf09d68",
   "metadata": {},
   "outputs": [],
   "source": [
    "newssources_id = dict()\n",
    "id_newssources = dict()\n",
    "\n",
    "for i,v in enumerate(newssources):\n",
    "    newssources_id[v] = i\n",
    "    id_newssources[i] = v"
   ]
  },
  {
   "cell_type": "code",
   "execution_count": 10,
   "id": "6e185297-6d35-41b0-9d65-a67a7ddbb0ac",
   "metadata": {},
   "outputs": [],
   "source": [
    "json.dump(newssources_id, open(\"data/newssources_id2647.json\", \"w\"), indent=4)\n",
    "json.dump(id_newssources, open(\"data/id_newssources2647.json\", \"w\"), indent=4)"
   ]
  },
  {
   "cell_type": "code",
   "execution_count": null,
   "id": "0d10ccb0-b3ec-40a0-8aa2-ca492fae369b",
   "metadata": {},
   "outputs": [],
   "source": [
    "json.dump(subreddit_id, open(\"data/subreddits_id2189.json\", \"w\"), indent=4)\n",
    "json.dump(id_subreddit, open(\"data/id_subreddits2189.json\", \"w\"), indent=4)"
   ]
  },
  {
   "cell_type": "markdown",
   "id": "167a717d-9e76-45a5-9f8b-e51935ce4556",
   "metadata": {},
   "source": [
    "## Sanity checks"
   ]
  },
  {
   "cell_type": "code",
   "execution_count": 2,
   "id": "b957bca2-21de-4bce-98e7-9767da785918",
   "metadata": {},
   "outputs": [],
   "source": [
    "ns1 = json.load(open(\"data/ns_id.json\"))"
   ]
  },
  {
   "cell_type": "code",
   "execution_count": 4,
   "id": "9289a14f-ce5c-4e41-a0f0-3a99c34318d0",
   "metadata": {},
   "outputs": [],
   "source": [
    "ns2 = json.load(open(\"data/newssources_id2647.json\"))"
   ]
  },
  {
   "cell_type": "code",
   "execution_count": 5,
   "id": "7a3b1bad-b093-499a-8d2f-4218ffbd2d36",
   "metadata": {},
   "outputs": [
    {
     "data": {
      "text/plain": [
       "(1538, 2647)"
      ]
     },
     "execution_count": 5,
     "metadata": {},
     "output_type": "execute_result"
    }
   ],
   "source": [
    "len(ns1), len(ns2)"
   ]
  },
  {
   "cell_type": "code",
   "execution_count": 7,
   "id": "d240c2d0-2448-4039-9712-ae1a16aaf4b4",
   "metadata": {
    "scrolled": true
   },
   "outputs": [
    {
     "data": {
      "text/plain": [
       "1742"
      ]
     },
     "execution_count": 7,
     "metadata": {},
     "output_type": "execute_result"
    }
   ],
   "source": [
    "len(set(ns2) - set(ns1))"
   ]
  },
  {
   "cell_type": "code",
   "execution_count": null,
   "id": "f6e2f99c-cbed-4cd9-b019-e71ce153faee",
   "metadata": {},
   "outputs": [],
   "source": []
  }
 ],
 "metadata": {
  "kernelspec": {
   "display_name": "Python 3 (ipykernel)",
   "language": "python",
   "name": "python3"
  },
  "language_info": {
   "codemirror_mode": {
    "name": "ipython",
    "version": 3
   },
   "file_extension": ".py",
   "mimetype": "text/x-python",
   "name": "python",
   "nbconvert_exporter": "python",
   "pygments_lexer": "ipython3",
   "version": "3.9.6"
  }
 },
 "nbformat": 4,
 "nbformat_minor": 5
}
