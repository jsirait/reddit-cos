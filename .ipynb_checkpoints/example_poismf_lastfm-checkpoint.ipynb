{
 "cells": [
  {
   "cell_type": "markdown",
   "metadata": {},
   "source": [
    "# Poisson factorization\n",
    "\n",
    "This example notebook illustrates the usage of the [poismf](https://www.github.com/david-cortes/poismf) package for recommender systems with implicit feedback data using the [Last.FM 360k dataset](http://ocelma.net/MusicRecommendationDataset/index.html). The model is described in more detail in [Fast Non-Bayesian Poisson Factorization for Implicit-Feedback Recommendations](https://arxiv.org/abs/1811.01908).\n",
    "\n",
    "# Model description\n",
    "\n",
    "The basic idea is to take a sparse input matrix of counts $\\mathbf{X}_{m,n}$, which in this case is given by the number of times each user (row in the matrix) played each song (column in the matrix), and find an approximation as the product of two non-negative lower-dimensional latent factor matrices $\\mathbf{A}_{m,k}$ and $\\mathbf{B}_{n,k}$ by maximizing Poisson likelihood, i.e. fit a model:\n",
    "$$\n",
    "\\mathbf{X} \\sim \\text{Poisson}(\\mathbf{A} \\mathbf{B}^T)\n",
    "$$\n",
    "\n",
    "Which is then used to make predictions on the missing (zero-valued) entries, with the highest-predicted items for each user being the best candidates to recommend.\n",
    "\n",
    "The package offers different optimization methods which have different advantages in terms of speed and quality, and depending on the settings, is usually able to find good solutions in which the latent factors matrices $\\mathbf{A}$ and $\\mathbf{B}$ are sparse (i.e. most entries are exactly zero).\n",
    "** *\n",
    "## Loading the data"
   ]
  },
  {
   "cell_type": "code",
   "execution_count": 1,
   "metadata": {},
   "outputs": [
    {
     "data": {
      "text/html": [
       "<div>\n",
       "<style scoped>\n",
       "    .dataframe tbody tr th:only-of-type {\n",
       "        vertical-align: middle;\n",
       "    }\n",
       "\n",
       "    .dataframe tbody tr th {\n",
       "        vertical-align: top;\n",
       "    }\n",
       "\n",
       "    .dataframe thead th {\n",
       "        text-align: right;\n",
       "    }\n",
       "</style>\n",
       "<table border=\"1\" class=\"dataframe\">\n",
       "  <thead>\n",
       "    <tr style=\"text-align: right;\">\n",
       "      <th></th>\n",
       "      <th>UserId</th>\n",
       "      <th>ItemId</th>\n",
       "      <th>Artist</th>\n",
       "      <th>Count</th>\n",
       "    </tr>\n",
       "  </thead>\n",
       "  <tbody>\n",
       "    <tr>\n",
       "      <th>0</th>\n",
       "      <td>00000c289a1829a808ac09c00daf10bc3c4e223b</td>\n",
       "      <td>3bd73256-3905-4f3a-97e2-8b341527f805</td>\n",
       "      <td>betty blowtorch</td>\n",
       "      <td>2137</td>\n",
       "    </tr>\n",
       "    <tr>\n",
       "      <th>1</th>\n",
       "      <td>00000c289a1829a808ac09c00daf10bc3c4e223b</td>\n",
       "      <td>f2fb0ff0-5679-42ec-a55c-15109ce6e320</td>\n",
       "      <td>die Ärzte</td>\n",
       "      <td>1099</td>\n",
       "    </tr>\n",
       "    <tr>\n",
       "      <th>2</th>\n",
       "      <td>00000c289a1829a808ac09c00daf10bc3c4e223b</td>\n",
       "      <td>b3ae82c2-e60b-4551-a76d-6620f1b456aa</td>\n",
       "      <td>melissa etheridge</td>\n",
       "      <td>897</td>\n",
       "    </tr>\n",
       "  </tbody>\n",
       "</table>\n",
       "</div>"
      ],
      "text/plain": [
       "                                     UserId  \\\n",
       "0  00000c289a1829a808ac09c00daf10bc3c4e223b   \n",
       "1  00000c289a1829a808ac09c00daf10bc3c4e223b   \n",
       "2  00000c289a1829a808ac09c00daf10bc3c4e223b   \n",
       "\n",
       "                                 ItemId             Artist  Count  \n",
       "0  3bd73256-3905-4f3a-97e2-8b341527f805    betty blowtorch   2137  \n",
       "1  f2fb0ff0-5679-42ec-a55c-15109ce6e320          die Ärzte   1099  \n",
       "2  b3ae82c2-e60b-4551-a76d-6620f1b456aa  melissa etheridge    897  "
      ]
     },
     "execution_count": 1,
     "metadata": {},
     "output_type": "execute_result"
    }
   ],
   "source": [
    "import numpy as np, pandas as pd\n",
    "from scipy.sparse import coo_matrix\n",
    "\n",
    "lfm = pd.read_table('usersha1-artmbid-artname-plays.tsv',\n",
    "                    sep='\\t', header=None,\n",
    "                    names=['UserId','ItemId', 'Artist','Count'])\n",
    "lfm.head(3)"
   ]
  },
  {
   "cell_type": "code",
   "execution_count": 2,
   "metadata": {},
   "outputs": [
    {
     "data": {
      "text/html": [
       "<div>\n",
       "<style scoped>\n",
       "    .dataframe tbody tr th:only-of-type {\n",
       "        vertical-align: middle;\n",
       "    }\n",
       "\n",
       "    .dataframe tbody tr th {\n",
       "        vertical-align: top;\n",
       "    }\n",
       "\n",
       "    .dataframe thead th {\n",
       "        text-align: right;\n",
       "    }\n",
       "</style>\n",
       "<table border=\"1\" class=\"dataframe\">\n",
       "  <thead>\n",
       "    <tr style=\"text-align: right;\">\n",
       "      <th></th>\n",
       "      <th>UserId</th>\n",
       "      <th>ItemId</th>\n",
       "      <th>Count</th>\n",
       "    </tr>\n",
       "  </thead>\n",
       "  <tbody>\n",
       "    <tr>\n",
       "      <th>0</th>\n",
       "      <td>0</td>\n",
       "      <td>37425</td>\n",
       "      <td>2137</td>\n",
       "    </tr>\n",
       "    <tr>\n",
       "      <th>1</th>\n",
       "      <td>0</td>\n",
       "      <td>152039</td>\n",
       "      <td>1099</td>\n",
       "    </tr>\n",
       "    <tr>\n",
       "      <th>2</th>\n",
       "      <td>0</td>\n",
       "      <td>112365</td>\n",
       "      <td>897</td>\n",
       "    </tr>\n",
       "  </tbody>\n",
       "</table>\n",
       "</div>"
      ],
      "text/plain": [
       "   UserId  ItemId  Count\n",
       "0       0   37425   2137\n",
       "1       0  152039   1099\n",
       "2       0  112365    897"
      ]
     },
     "execution_count": 2,
     "metadata": {},
     "output_type": "execute_result"
    }
   ],
   "source": [
    "lfm = lfm.drop('Artist', axis=1)\n",
    "lfm = lfm.loc[(lfm.Count > 0) & (lfm.UserId.notnull()) & (lfm.ItemId.notnull())]\n",
    "lfm['UserId'] = pd.Categorical(lfm.UserId).codes\n",
    "lfm['ItemId'] = pd.Categorical(lfm.ItemId).codes\n",
    "lfm.head(3)"
   ]
  },
  {
   "cell_type": "code",
   "execution_count": 3,
   "metadata": {},
   "outputs": [
    {
     "data": {
      "text/plain": [
       "<358858x160112 sparse matrix of type '<class 'numpy.int64'>'\n",
       "\twith 17309518 stored elements in COOrdinate format>"
      ]
     },
     "execution_count": 3,
     "metadata": {},
     "output_type": "execute_result"
    }
   ],
   "source": [
    "X = coo_matrix((lfm.Count, (lfm.UserId, lfm.ItemId)))\n",
    "X"
   ]
  },
  {
   "cell_type": "markdown",
   "metadata": {},
   "source": [
    "## Producing a train-test split\n",
    "\n",
    "This section will select a random sample of 10,000 users for testing purposes. From these 10,000 users, 30% of their consumed items will be held-out as a test set (randomly chosen), and recommendation models will be fit to the remainder of their data plus the full data for the remainder of the users (see package [recometrics](https://www.github.com/david-cortes/recometrics) for more details)."
   ]
  },
  {
   "cell_type": "code",
   "execution_count": 4,
   "metadata": {},
   "outputs": [
    {
     "name": "stdout",
     "output_type": "stream",
     "text": [
      "Number of entries to fit the model: 17,164,027\n",
      "Number of test users: 10,000\n",
      "Number of entries in training data for test users: 337,427\n",
      "Number of entries in test data: 145,124\n"
     ]
    }
   ],
   "source": [
    "import recometrics\n",
    "\n",
    "X_train, X_test, users_test = \\\n",
    "    recometrics.split_reco_train_test(\n",
    "        X, split_type = \"joined\",\n",
    "        users_test_fraction = None,\n",
    "        max_test_users = 10000,\n",
    "        items_test_fraction = 0.3,\n",
    "        min_pos_test = 2,\n",
    "        min_items_pool = 10,\n",
    "        seed = 123\n",
    "    )\n",
    "X_train_coo = X_train.tocoo()\n",
    "\n",
    "print(\"Number of entries to fit the model: {:,}\".format(X_train.data.shape[0]))\n",
    "print(\"Number of test users: {:,}\".format(users_test.shape[0]))\n",
    "print(\"Number of entries in training data for test users: {:,}\".format(\n",
    "    X_train[:X_test.shape[0]].data.shape[0]))\n",
    "print(\"Number of entries in test data: {:,}\".format(X_test.data.shape[0]))"
   ]
  },
  {
   "cell_type": "markdown",
   "metadata": {},
   "source": [
    "## Ranking metrics for evaluation\n",
    "\n",
    "The models fit here will be evaluated by typical implicit-feedback recommendation quality metrics such as precision-at-k, recall-at-k, MAP, etc.\n",
    "\n",
    "These metrics are calculated for each user separately, by taking the entries in the hold-out test set as a positive class, entries which are neither in the training or test sets as a negative class, and producing predictions for all the entries that were not in the training set - the idea being that models which tend to rank highest the songs that the users ended up listening are better."
   ]
  },
  {
   "cell_type": "code",
   "execution_count": 5,
   "metadata": {},
   "outputs": [],
   "source": [
    "def print_ranking_metrics(A, B, X_train, X_test, top_n=5):\n",
    "    metrics = recometrics.calc_reco_metrics(\n",
    "        X_train[:X_test.shape[0]], X_test,\n",
    "        A[:X_test.shape[0]], B,\n",
    "        k=top_n, all_metrics=True\n",
    "    )\n",
    "    return(metrics.mean(axis=0).to_frame().T)"
   ]
  },
  {
   "cell_type": "markdown",
   "metadata": {},
   "source": [
    "## Fitting the model\n",
    "** *\n",
    "This section will fit and evaluate the Poisson factorization model fit with different hyperparameters."
   ]
  },
  {
   "cell_type": "code",
   "execution_count": 6,
   "metadata": {},
   "outputs": [],
   "source": [
    "from poismf import PoisMF"
   ]
  },
  {
   "cell_type": "markdown",
   "metadata": {},
   "source": [
    "Oriented towards speed:"
   ]
  },
  {
   "cell_type": "code",
   "execution_count": 7,
   "metadata": {},
   "outputs": [
    {
     "name": "stdout",
     "output_type": "stream",
     "text": [
      "CPU times: user 1min 27s, sys: 113 ms, total: 1min 27s\n",
      "Wall time: 6.17 s\n"
     ]
    }
   ],
   "source": [
    "%%time\n",
    "model_fast = PoisMF(reindex=False, method=\"pg\", use_float=False,\n",
    "                    k=10, niter=10, maxupd=1, l2_reg=1e9)\\\n",
    "                .fit(X_train_coo)"
   ]
  },
  {
   "cell_type": "code",
   "execution_count": 8,
   "metadata": {},
   "outputs": [
    {
     "data": {
      "text/html": [
       "<div>\n",
       "<style scoped>\n",
       "    .dataframe tbody tr th:only-of-type {\n",
       "        vertical-align: middle;\n",
       "    }\n",
       "\n",
       "    .dataframe tbody tr th {\n",
       "        vertical-align: top;\n",
       "    }\n",
       "\n",
       "    .dataframe thead th {\n",
       "        text-align: right;\n",
       "    }\n",
       "</style>\n",
       "<table border=\"1\" class=\"dataframe\">\n",
       "  <thead>\n",
       "    <tr style=\"text-align: right;\">\n",
       "      <th></th>\n",
       "      <th>P@5</th>\n",
       "      <th>TP@5</th>\n",
       "      <th>R@5</th>\n",
       "      <th>AP@5</th>\n",
       "      <th>TAP@5</th>\n",
       "      <th>NDCG@5</th>\n",
       "      <th>Hit@5</th>\n",
       "      <th>RR@5</th>\n",
       "      <th>ROC_AUC</th>\n",
       "      <th>PR_AUC</th>\n",
       "    </tr>\n",
       "  </thead>\n",
       "  <tbody>\n",
       "    <tr>\n",
       "      <th>0</th>\n",
       "      <td>0.05946</td>\n",
       "      <td>0.059488</td>\n",
       "      <td>0.020351</td>\n",
       "      <td>0.01206</td>\n",
       "      <td>0.035354</td>\n",
       "      <td>0.043764</td>\n",
       "      <td>0.2455</td>\n",
       "      <td>0.141385</td>\n",
       "      <td>0.952828</td>\n",
       "      <td>0.029469</td>\n",
       "    </tr>\n",
       "  </tbody>\n",
       "</table>\n",
       "</div>"
      ],
      "text/plain": [
       "       P@5      TP@5       R@5     AP@5     TAP@5    NDCG@5   Hit@5      RR@5  \\\n",
       "0  0.05946  0.059488  0.020351  0.01206  0.035354  0.043764  0.2455  0.141385   \n",
       "\n",
       "    ROC_AUC    PR_AUC  \n",
       "0  0.952828  0.029469  "
      ]
     },
     "execution_count": 8,
     "metadata": {},
     "output_type": "execute_result"
    }
   ],
   "source": [
    "print_ranking_metrics(model_fast.A, model_fast.B, X_train, X_test, 5)"
   ]
  },
  {
   "cell_type": "markdown",
   "metadata": {},
   "source": [
    "Faster, but still not-so-good quality:"
   ]
  },
  {
   "cell_type": "code",
   "execution_count": 9,
   "metadata": {},
   "outputs": [
    {
     "name": "stdout",
     "output_type": "stream",
     "text": [
      "CPU times: user 1h 1min 50s, sys: 792 ms, total: 1h 1min 51s\n",
      "Wall time: 3min 56s\n"
     ]
    }
   ],
   "source": [
    "%%time\n",
    "model_balanced = PoisMF(reindex=False, method=\"cg\", use_float=False,\n",
    "                        k=50, niter=30, maxupd=5, l2_reg=1e4)\\\n",
    "                    .fit(X_train_coo)"
   ]
  },
  {
   "cell_type": "code",
   "execution_count": 10,
   "metadata": {},
   "outputs": [
    {
     "data": {
      "text/html": [
       "<div>\n",
       "<style scoped>\n",
       "    .dataframe tbody tr th:only-of-type {\n",
       "        vertical-align: middle;\n",
       "    }\n",
       "\n",
       "    .dataframe tbody tr th {\n",
       "        vertical-align: top;\n",
       "    }\n",
       "\n",
       "    .dataframe thead th {\n",
       "        text-align: right;\n",
       "    }\n",
       "</style>\n",
       "<table border=\"1\" class=\"dataframe\">\n",
       "  <thead>\n",
       "    <tr style=\"text-align: right;\">\n",
       "      <th></th>\n",
       "      <th>P@5</th>\n",
       "      <th>TP@5</th>\n",
       "      <th>R@5</th>\n",
       "      <th>AP@5</th>\n",
       "      <th>TAP@5</th>\n",
       "      <th>NDCG@5</th>\n",
       "      <th>Hit@5</th>\n",
       "      <th>RR@5</th>\n",
       "      <th>ROC_AUC</th>\n",
       "      <th>PR_AUC</th>\n",
       "    </tr>\n",
       "  </thead>\n",
       "  <tbody>\n",
       "    <tr>\n",
       "      <th>0</th>\n",
       "      <td>0.12868</td>\n",
       "      <td>0.128743</td>\n",
       "      <td>0.044663</td>\n",
       "      <td>0.027316</td>\n",
       "      <td>0.078918</td>\n",
       "      <td>0.09678</td>\n",
       "      <td>0.4691</td>\n",
       "      <td>0.279227</td>\n",
       "      <td>0.981536</td>\n",
       "      <td>0.070436</td>\n",
       "    </tr>\n",
       "  </tbody>\n",
       "</table>\n",
       "</div>"
      ],
      "text/plain": [
       "       P@5      TP@5       R@5      AP@5     TAP@5   NDCG@5   Hit@5      RR@5  \\\n",
       "0  0.12868  0.128743  0.044663  0.027316  0.078918  0.09678  0.4691  0.279227   \n",
       "\n",
       "    ROC_AUC    PR_AUC  \n",
       "0  0.981536  0.070436  "
      ]
     },
     "execution_count": 10,
     "metadata": {},
     "output_type": "execute_result"
    }
   ],
   "source": [
    "print_ranking_metrics(model_balanced.A, model_balanced.B, X_train, X_test, 5)"
   ]
  },
  {
   "cell_type": "markdown",
   "metadata": {},
   "source": [
    "Good quality and producing sparse factors, but slow:"
   ]
  },
  {
   "cell_type": "code",
   "execution_count": 11,
   "metadata": {},
   "outputs": [
    {
     "name": "stdout",
     "output_type": "stream",
     "text": [
      "CPU times: user 1h 33min 19s, sys: 1 s, total: 1h 33min 20s\n",
      "Wall time: 5min 59s\n"
     ]
    }
   ],
   "source": [
    "%%time\n",
    "## Note: 'maxupd' for 'tncg' means 'maxfneval'\n",
    "model_good = PoisMF(reindex=False, method=\"tncg\", use_float=True,\n",
    "                    early_stop=False, reuse_prev=True,\n",
    "                    k=50, niter=10, maxupd=750, l2_reg=1e3)\\\n",
    "                .fit(X_train_coo)"
   ]
  },
  {
   "cell_type": "code",
   "execution_count": 12,
   "metadata": {},
   "outputs": [
    {
     "data": {
      "text/html": [
       "<div>\n",
       "<style scoped>\n",
       "    .dataframe tbody tr th:only-of-type {\n",
       "        vertical-align: middle;\n",
       "    }\n",
       "\n",
       "    .dataframe tbody tr th {\n",
       "        vertical-align: top;\n",
       "    }\n",
       "\n",
       "    .dataframe thead th {\n",
       "        text-align: right;\n",
       "    }\n",
       "</style>\n",
       "<table border=\"1\" class=\"dataframe\">\n",
       "  <thead>\n",
       "    <tr style=\"text-align: right;\">\n",
       "      <th></th>\n",
       "      <th>P@5</th>\n",
       "      <th>TP@5</th>\n",
       "      <th>R@5</th>\n",
       "      <th>AP@5</th>\n",
       "      <th>TAP@5</th>\n",
       "      <th>NDCG@5</th>\n",
       "      <th>Hit@5</th>\n",
       "      <th>RR@5</th>\n",
       "      <th>ROC_AUC</th>\n",
       "      <th>PR_AUC</th>\n",
       "    </tr>\n",
       "  </thead>\n",
       "  <tbody>\n",
       "    <tr>\n",
       "      <th>0</th>\n",
       "      <td>0.15106</td>\n",
       "      <td>0.151118</td>\n",
       "      <td>0.05189</td>\n",
       "      <td>0.033128</td>\n",
       "      <td>0.096668</td>\n",
       "      <td>0.117803</td>\n",
       "      <td>0.5118</td>\n",
       "      <td>0.318382</td>\n",
       "      <td>0.969582</td>\n",
       "      <td>0.078752</td>\n",
       "    </tr>\n",
       "  </tbody>\n",
       "</table>\n",
       "</div>"
      ],
      "text/plain": [
       "       P@5      TP@5      R@5      AP@5     TAP@5    NDCG@5   Hit@5      RR@5  \\\n",
       "0  0.15106  0.151118  0.05189  0.033128  0.096668  0.117803  0.5118  0.318382   \n",
       "\n",
       "    ROC_AUC    PR_AUC  \n",
       "0  0.969582  0.078752  "
      ]
     },
     "execution_count": 12,
     "metadata": {},
     "output_type": "execute_result"
    }
   ],
   "source": [
    "print_ranking_metrics(model_good.A, model_good.B, X_train, X_test, 5)"
   ]
  },
  {
   "cell_type": "code",
   "execution_count": 13,
   "metadata": {},
   "outputs": [
    {
     "name": "stdout",
     "output_type": "stream",
     "text": [
      "CPU times: user 3h 13min 49s, sys: 10.8 s, total: 3h 14min\n",
      "Wall time: 12min 22s\n"
     ]
    }
   ],
   "source": [
    "%%time\n",
    "## Note: 'maxupd' for 'tncg' means 'maxfneval'\n",
    "model_good = PoisMF(reindex=False, method=\"tncg\", use_float=False,\n",
    "                    early_stop=False, reuse_prev=False,\n",
    "                    k=50, niter=10, maxupd=750, l2_reg=1e3)\\\n",
    "                .fit(X_train_coo)"
   ]
  },
  {
   "cell_type": "code",
   "execution_count": 14,
   "metadata": {},
   "outputs": [
    {
     "data": {
      "text/html": [
       "<div>\n",
       "<style scoped>\n",
       "    .dataframe tbody tr th:only-of-type {\n",
       "        vertical-align: middle;\n",
       "    }\n",
       "\n",
       "    .dataframe tbody tr th {\n",
       "        vertical-align: top;\n",
       "    }\n",
       "\n",
       "    .dataframe thead th {\n",
       "        text-align: right;\n",
       "    }\n",
       "</style>\n",
       "<table border=\"1\" class=\"dataframe\">\n",
       "  <thead>\n",
       "    <tr style=\"text-align: right;\">\n",
       "      <th></th>\n",
       "      <th>P@5</th>\n",
       "      <th>TP@5</th>\n",
       "      <th>R@5</th>\n",
       "      <th>AP@5</th>\n",
       "      <th>TAP@5</th>\n",
       "      <th>NDCG@5</th>\n",
       "      <th>Hit@5</th>\n",
       "      <th>RR@5</th>\n",
       "      <th>ROC_AUC</th>\n",
       "      <th>PR_AUC</th>\n",
       "    </tr>\n",
       "  </thead>\n",
       "  <tbody>\n",
       "    <tr>\n",
       "      <th>0</th>\n",
       "      <td>0.15616</td>\n",
       "      <td>0.156175</td>\n",
       "      <td>0.053608</td>\n",
       "      <td>0.033359</td>\n",
       "      <td>0.097392</td>\n",
       "      <td>0.120085</td>\n",
       "      <td>0.5294</td>\n",
       "      <td>0.319528</td>\n",
       "      <td>0.96798</td>\n",
       "      <td>0.084333</td>\n",
       "    </tr>\n",
       "  </tbody>\n",
       "</table>\n",
       "</div>"
      ],
      "text/plain": [
       "       P@5      TP@5       R@5      AP@5     TAP@5    NDCG@5   Hit@5  \\\n",
       "0  0.15616  0.156175  0.053608  0.033359  0.097392  0.120085  0.5294   \n",
       "\n",
       "       RR@5  ROC_AUC    PR_AUC  \n",
       "0  0.319528  0.96798  0.084333  "
      ]
     },
     "execution_count": 14,
     "metadata": {},
     "output_type": "execute_result"
    }
   ],
   "source": [
    "print_ranking_metrics(model_good.A, model_good.B, X_train, X_test, 5)"
   ]
  },
  {
   "cell_type": "markdown",
   "metadata": {},
   "source": [
    "(In this case, it's possible to increase P@5 at the expense of AUC by decreasing  the regularization parameter)\n",
    "** *\n",
    "### Sparse factors\n",
    "\n",
    "Verifying that the obtain latent factors are indeed sparse:"
   ]
  },
  {
   "cell_type": "code",
   "execution_count": 15,
   "metadata": {},
   "outputs": [
    {
     "data": {
      "text/plain": [
       "array([0.35320237, 0.        , 0.        , 0.07327405, 0.        ,\n",
       "       0.        , 0.        , 0.        , 0.        , 0.        ,\n",
       "       0.        , 0.        , 0.        , 0.        , 0.11740585,\n",
       "       0.        , 0.        , 0.        , 0.        , 0.        ,\n",
       "       0.        , 0.        , 0.        , 0.        , 0.        ,\n",
       "       0.        , 0.        , 0.        , 0.        , 0.        ,\n",
       "       0.        , 0.        , 0.10553953, 0.        , 0.        ,\n",
       "       0.        , 0.        , 0.        , 0.        , 0.        ,\n",
       "       0.        , 0.        , 0.        , 0.        , 0.        ,\n",
       "       0.33448084, 0.        , 0.        , 0.38001133, 0.        ])"
      ]
     },
     "execution_count": 15,
     "metadata": {},
     "output_type": "execute_result"
    }
   ],
   "source": [
    "model_good.A[0]"
   ]
  },
  {
   "cell_type": "code",
   "execution_count": 16,
   "metadata": {},
   "outputs": [
    {
     "name": "stdout",
     "output_type": "stream",
     "text": [
      "Percent of zero-valued entries in A: 82.68%\n"
     ]
    }
   ],
   "source": [
    "print(\"Percent of zero-valued entries in A: %.2f%%\" %\n",
    "      float((model_good.A == 0.).mean() * 100.))"
   ]
  },
  {
   "cell_type": "code",
   "execution_count": 17,
   "metadata": {},
   "outputs": [
    {
     "name": "stdout",
     "output_type": "stream",
     "text": [
      "Percent of zero-valued entries in B: 96.13%\n"
     ]
    }
   ],
   "source": [
    "print(\"Percent of zero-valued entries in B: %.2f%%\" %\n",
    "      float((model_good.B == 0.).mean() * 100.))"
   ]
  },
  {
   "cell_type": "markdown",
   "metadata": {},
   "source": [
    "## Prediction API\n",
    "** *\n",
    "Ranking top-N items IDs for a given user:"
   ]
  },
  {
   "cell_type": "code",
   "execution_count": 18,
   "metadata": {},
   "outputs": [
    {
     "data": {
      "text/plain": [
       "array([110771,   2291,   1173, 105896,   7811], dtype=uint64)"
      ]
     },
     "execution_count": 18,
     "metadata": {},
     "output_type": "execute_result"
    }
   ],
   "source": [
    "model_good.topN(user = 2, n = 5,\n",
    "                exclude = X_train[2].indices)"
   ]
  },
  {
   "cell_type": "markdown",
   "metadata": {},
   "source": [
    "(These numbers correspond to the IDs of the items in the data that was passed)\n",
    "\n",
    "If it were a new user - note that the obtained latent factors will differ slightly and it might affect the ranking:"
   ]
  },
  {
   "cell_type": "code",
   "execution_count": 19,
   "metadata": {},
   "outputs": [
    {
     "data": {
      "text/plain": [
       "array([104609, 110771,  71951,    149,  40616], dtype=uint64)"
      ]
     },
     "execution_count": 19,
     "metadata": {},
     "output_type": "execute_result"
    }
   ],
   "source": [
    "model_good.topN_new((X_train[2].indices, X_train[2].data), n = 5,\n",
    "                     exclude = X_train[2].indices)"
   ]
  },
  {
   "cell_type": "markdown",
   "metadata": {},
   "source": [
    "Predicting new (user,item) combinations:"
   ]
  },
  {
   "cell_type": "code",
   "execution_count": 20,
   "metadata": {},
   "outputs": [
    {
     "data": {
      "text/plain": [
       "array([0.       , 0.0003477, 0.       ])"
      ]
     },
     "execution_count": 20,
     "metadata": {},
     "output_type": "execute_result"
    }
   ],
   "source": [
    "### Predicts triplets (3,4), (3,5), (10,11)\n",
    "model_good.predict(user=[3,3,3], item=[3,4,11])"
   ]
  },
  {
   "cell_type": "markdown",
   "metadata": {},
   "source": [
    "Obtaining latent factors for new data:"
   ]
  },
  {
   "cell_type": "code",
   "execution_count": 21,
   "metadata": {},
   "outputs": [
    {
     "data": {
      "text/plain": [
       "array([0.        , 0.        , 0.        , 0.        , 0.        ,\n",
       "       0.        , 0.0782565 , 0.        , 0.        , 0.06393394,\n",
       "       0.        , 0.        , 0.        , 0.        , 0.        ,\n",
       "       0.        , 0.12811679, 0.11782422, 0.00386281, 0.        ,\n",
       "       0.        , 0.5620569 , 0.        , 0.        , 0.        ,\n",
       "       0.        , 0.        , 0.        , 0.        , 0.        ,\n",
       "       0.        , 0.        , 0.        , 0.        , 0.        ,\n",
       "       0.        , 0.        , 0.        , 0.        , 0.23295553,\n",
       "       0.        , 0.        , 0.        , 0.04802638, 0.        ,\n",
       "       0.        , 0.        , 0.        , 0.        , 0.07198239])"
      ]
     },
     "execution_count": 21,
     "metadata": {},
     "output_type": "execute_result"
    }
   ],
   "source": [
    "model_good.predict_factors((X_train[2].indices, X_train[2].data))"
   ]
  },
  {
   "cell_type": "markdown",
   "metadata": {},
   "source": [
    "## Comparison against other factorization models\n",
    "** *"
   ]
  },
  {
   "cell_type": "code",
   "execution_count": 22,
   "metadata": {},
   "outputs": [],
   "source": [
    "from implicit.als import AlternatingLeastSquares\n",
    "from implicit.bpr import BayesianPersonalizedRanking\n",
    "from hpfrec import HPF ### <- Bayesian version of poismf\n",
    "from cmfrec import MostPopular\n",
    "\n",
    "Xcsr_T = X_train.T\n",
    "Xcoo_T = X_train_coo.T"
   ]
  },
  {
   "cell_type": "code",
   "execution_count": 23,
   "metadata": {},
   "outputs": [
    {
     "name": "stdout",
     "output_type": "stream",
     "text": [
      "CPU times: user 210 ms, sys: 44 ms, total: 254 ms\n",
      "Wall time: 254 ms\n"
     ]
    }
   ],
   "source": [
    "%%time\n",
    "non_personalized = MostPopular(implicit=True).fit(X_train_coo)"
   ]
  },
  {
   "cell_type": "code",
   "execution_count": 24,
   "metadata": {},
   "outputs": [
    {
     "data": {
      "text/html": [
       "<div>\n",
       "<style scoped>\n",
       "    .dataframe tbody tr th:only-of-type {\n",
       "        vertical-align: middle;\n",
       "    }\n",
       "\n",
       "    .dataframe tbody tr th {\n",
       "        vertical-align: top;\n",
       "    }\n",
       "\n",
       "    .dataframe thead th {\n",
       "        text-align: right;\n",
       "    }\n",
       "</style>\n",
       "<table border=\"1\" class=\"dataframe\">\n",
       "  <thead>\n",
       "    <tr style=\"text-align: right;\">\n",
       "      <th></th>\n",
       "      <th>P@5</th>\n",
       "      <th>TP@5</th>\n",
       "      <th>R@5</th>\n",
       "      <th>AP@5</th>\n",
       "      <th>TAP@5</th>\n",
       "      <th>NDCG@5</th>\n",
       "      <th>Hit@5</th>\n",
       "      <th>RR@5</th>\n",
       "      <th>ROC_AUC</th>\n",
       "      <th>PR_AUC</th>\n",
       "    </tr>\n",
       "  </thead>\n",
       "  <tbody>\n",
       "    <tr>\n",
       "      <th>0</th>\n",
       "      <td>0.05892</td>\n",
       "      <td>0.058943</td>\n",
       "      <td>0.020196</td>\n",
       "      <td>0.012146</td>\n",
       "      <td>0.035587</td>\n",
       "      <td>0.043724</td>\n",
       "      <td>0.2406</td>\n",
       "      <td>0.141</td>\n",
       "      <td>0.952892</td>\n",
       "      <td>0.029633</td>\n",
       "    </tr>\n",
       "  </tbody>\n",
       "</table>\n",
       "</div>"
      ],
      "text/plain": [
       "       P@5      TP@5       R@5      AP@5     TAP@5    NDCG@5   Hit@5   RR@5  \\\n",
       "0  0.05892  0.058943  0.020196  0.012146  0.035587  0.043724  0.2406  0.141   \n",
       "\n",
       "    ROC_AUC    PR_AUC  \n",
       "0  0.952892  0.029633  "
      ]
     },
     "execution_count": 24,
     "metadata": {},
     "output_type": "execute_result"
    }
   ],
   "source": [
    "print_ranking_metrics(np.ones((X_test.shape[0],1)),\n",
    "                      non_personalized.item_bias_.reshape((-1,1)),\n",
    "                      X_train, X_test, 5)"
   ]
  },
  {
   "cell_type": "code",
   "execution_count": 25,
   "metadata": {},
   "outputs": [
    {
     "name": "stderr",
     "output_type": "stream",
     "text": [
      "WARNING:root:OpenBLAS detected. Its highly recommend to set the environment variable 'export OPENBLAS_NUM_THREADS=1' to disable its internal multithreading\n"
     ]
    },
    {
     "data": {
      "application/vnd.jupyter.widget-view+json": {
       "model_id": "5efe35f0fc794a868e3ab90ae1ee9b5f",
       "version_major": 2,
       "version_minor": 0
      },
      "text/plain": [
       "HBox(children=(FloatProgress(value=0.0, max=15.0), HTML(value='')))"
      ]
     },
     "metadata": {},
     "output_type": "display_data"
    },
    {
     "name": "stdout",
     "output_type": "stream",
     "text": [
      "\n",
      "CPU times: user 7min, sys: 3.88 s, total: 7min 4s\n",
      "Wall time: 29.8 s\n"
     ]
    }
   ],
   "source": [
    "%%time\n",
    "ials = AlternatingLeastSquares(factors=50, regularization=0.01,\n",
    "                               dtype=np.float64, iterations=15)\n",
    "ials.fit(Xcsr_T)"
   ]
  },
  {
   "cell_type": "code",
   "execution_count": 26,
   "metadata": {},
   "outputs": [
    {
     "data": {
      "text/html": [
       "<div>\n",
       "<style scoped>\n",
       "    .dataframe tbody tr th:only-of-type {\n",
       "        vertical-align: middle;\n",
       "    }\n",
       "\n",
       "    .dataframe tbody tr th {\n",
       "        vertical-align: top;\n",
       "    }\n",
       "\n",
       "    .dataframe thead th {\n",
       "        text-align: right;\n",
       "    }\n",
       "</style>\n",
       "<table border=\"1\" class=\"dataframe\">\n",
       "  <thead>\n",
       "    <tr style=\"text-align: right;\">\n",
       "      <th></th>\n",
       "      <th>P@5</th>\n",
       "      <th>TP@5</th>\n",
       "      <th>R@5</th>\n",
       "      <th>AP@5</th>\n",
       "      <th>TAP@5</th>\n",
       "      <th>NDCG@5</th>\n",
       "      <th>Hit@5</th>\n",
       "      <th>RR@5</th>\n",
       "      <th>ROC_AUC</th>\n",
       "      <th>PR_AUC</th>\n",
       "    </tr>\n",
       "  </thead>\n",
       "  <tbody>\n",
       "    <tr>\n",
       "      <th>0</th>\n",
       "      <td>0.20192</td>\n",
       "      <td>0.202035</td>\n",
       "      <td>0.070324</td>\n",
       "      <td>0.045763</td>\n",
       "      <td>0.13171</td>\n",
       "      <td>0.155549</td>\n",
       "      <td>0.6225</td>\n",
       "      <td>0.388982</td>\n",
       "      <td>0.980055</td>\n",
       "      <td>0.120809</td>\n",
       "    </tr>\n",
       "  </tbody>\n",
       "</table>\n",
       "</div>"
      ],
      "text/plain": [
       "       P@5      TP@5       R@5      AP@5    TAP@5    NDCG@5   Hit@5      RR@5  \\\n",
       "0  0.20192  0.202035  0.070324  0.045763  0.13171  0.155549  0.6225  0.388982   \n",
       "\n",
       "    ROC_AUC    PR_AUC  \n",
       "0  0.980055  0.120809  "
      ]
     },
     "execution_count": 26,
     "metadata": {},
     "output_type": "execute_result"
    }
   ],
   "source": [
    "print_ranking_metrics(ials.user_factors, ials.item_factors, X_train, X_test, 5)"
   ]
  },
  {
   "cell_type": "code",
   "execution_count": 27,
   "metadata": {},
   "outputs": [
    {
     "data": {
      "application/vnd.jupyter.widget-view+json": {
       "model_id": "6948528ada974c6cb685f0d49460f2a1",
       "version_major": 2,
       "version_minor": 0
      },
      "text/plain": [
       "HBox(children=(FloatProgress(value=0.0), HTML(value='')))"
      ]
     },
     "metadata": {},
     "output_type": "display_data"
    },
    {
     "name": "stdout",
     "output_type": "stream",
     "text": [
      "\n",
      "CPU times: user 51min 34s, sys: 4.7 s, total: 51min 38s\n",
      "Wall time: 3min 27s\n"
     ]
    }
   ],
   "source": [
    "%%time\n",
    "bpr = BayesianPersonalizedRanking(factors=50, learning_rate=0.01,\n",
    "                                  regularization=0.01, dtype=np.float64,\n",
    "                                  iterations=100)\n",
    "bpr.fit(Xcoo_T)"
   ]
  },
  {
   "cell_type": "code",
   "execution_count": 28,
   "metadata": {},
   "outputs": [
    {
     "data": {
      "text/html": [
       "<div>\n",
       "<style scoped>\n",
       "    .dataframe tbody tr th:only-of-type {\n",
       "        vertical-align: middle;\n",
       "    }\n",
       "\n",
       "    .dataframe tbody tr th {\n",
       "        vertical-align: top;\n",
       "    }\n",
       "\n",
       "    .dataframe thead th {\n",
       "        text-align: right;\n",
       "    }\n",
       "</style>\n",
       "<table border=\"1\" class=\"dataframe\">\n",
       "  <thead>\n",
       "    <tr style=\"text-align: right;\">\n",
       "      <th></th>\n",
       "      <th>P@5</th>\n",
       "      <th>TP@5</th>\n",
       "      <th>R@5</th>\n",
       "      <th>AP@5</th>\n",
       "      <th>TAP@5</th>\n",
       "      <th>NDCG@5</th>\n",
       "      <th>Hit@5</th>\n",
       "      <th>RR@5</th>\n",
       "      <th>ROC_AUC</th>\n",
       "      <th>PR_AUC</th>\n",
       "    </tr>\n",
       "  </thead>\n",
       "  <tbody>\n",
       "    <tr>\n",
       "      <th>0</th>\n",
       "      <td>0.10156</td>\n",
       "      <td>0.101598</td>\n",
       "      <td>0.03548</td>\n",
       "      <td>0.021576</td>\n",
       "      <td>0.061884</td>\n",
       "      <td>0.080852</td>\n",
       "      <td>0.3787</td>\n",
       "      <td>0.223163</td>\n",
       "      <td>0.950915</td>\n",
       "      <td>0.051051</td>\n",
       "    </tr>\n",
       "  </tbody>\n",
       "</table>\n",
       "</div>"
      ],
      "text/plain": [
       "       P@5      TP@5      R@5      AP@5     TAP@5    NDCG@5   Hit@5      RR@5  \\\n",
       "0  0.10156  0.101598  0.03548  0.021576  0.061884  0.080852  0.3787  0.223163   \n",
       "\n",
       "    ROC_AUC    PR_AUC  \n",
       "0  0.950915  0.051051  "
      ]
     },
     "execution_count": 28,
     "metadata": {},
     "output_type": "execute_result"
    }
   ],
   "source": [
    "print_ranking_metrics(bpr.user_factors, bpr.item_factors, X_train, X_test, 5)"
   ]
  },
  {
   "cell_type": "code",
   "execution_count": 29,
   "metadata": {},
   "outputs": [
    {
     "name": "stdout",
     "output_type": "stream",
     "text": [
      "CPU times: user 2h 29min 59s, sys: 22.5 s, total: 2h 30min 21s\n",
      "Wall time: 13min 4s\n"
     ]
    }
   ],
   "source": [
    "%%time\n",
    "hpf = HPF(k=50, verbose=False, use_float=False,\n",
    "          stop_crit=\"maxiter\", maxiter=100)\\\n",
    "        .fit(X_train_coo)"
   ]
  },
  {
   "cell_type": "code",
   "execution_count": 30,
   "metadata": {},
   "outputs": [
    {
     "data": {
      "text/html": [
       "<div>\n",
       "<style scoped>\n",
       "    .dataframe tbody tr th:only-of-type {\n",
       "        vertical-align: middle;\n",
       "    }\n",
       "\n",
       "    .dataframe tbody tr th {\n",
       "        vertical-align: top;\n",
       "    }\n",
       "\n",
       "    .dataframe thead th {\n",
       "        text-align: right;\n",
       "    }\n",
       "</style>\n",
       "<table border=\"1\" class=\"dataframe\">\n",
       "  <thead>\n",
       "    <tr style=\"text-align: right;\">\n",
       "      <th></th>\n",
       "      <th>P@5</th>\n",
       "      <th>TP@5</th>\n",
       "      <th>R@5</th>\n",
       "      <th>AP@5</th>\n",
       "      <th>TAP@5</th>\n",
       "      <th>NDCG@5</th>\n",
       "      <th>Hit@5</th>\n",
       "      <th>RR@5</th>\n",
       "      <th>ROC_AUC</th>\n",
       "      <th>PR_AUC</th>\n",
       "    </tr>\n",
       "  </thead>\n",
       "  <tbody>\n",
       "    <tr>\n",
       "      <th>0</th>\n",
       "      <td>0.14354</td>\n",
       "      <td>0.143573</td>\n",
       "      <td>0.049147</td>\n",
       "      <td>0.031008</td>\n",
       "      <td>0.090658</td>\n",
       "      <td>0.112452</td>\n",
       "      <td>0.5003</td>\n",
       "      <td>0.307433</td>\n",
       "      <td>0.978796</td>\n",
       "      <td>0.079902</td>\n",
       "    </tr>\n",
       "  </tbody>\n",
       "</table>\n",
       "</div>"
      ],
      "text/plain": [
       "       P@5      TP@5       R@5      AP@5     TAP@5    NDCG@5   Hit@5  \\\n",
       "0  0.14354  0.143573  0.049147  0.031008  0.090658  0.112452  0.5003   \n",
       "\n",
       "       RR@5   ROC_AUC    PR_AUC  \n",
       "0  0.307433  0.978796  0.079902  "
      ]
     },
     "execution_count": 30,
     "metadata": {},
     "output_type": "execute_result"
    }
   ],
   "source": [
    "print_ranking_metrics(hpf.Theta, hpf.Beta, X_train, X_test, 5)"
   ]
  },
  {
   "cell_type": "markdown",
   "metadata": {},
   "source": [
    "** *\n",
    "# References\n",
    "\n",
    "* Cortes, David. \"Fast Non-Bayesian Poisson Factorization for Implicit-Feedback Recommendations.\" arXiv preprint arXiv:1811.01908 (2018)."
   ]
  }
 ],
 "metadata": {
  "kernelspec": {
   "display_name": "Python (OpenBLAS)",
   "language": "python",
   "name": "py3"
  },
  "language_info": {
   "codemirror_mode": {
    "name": "ipython",
    "version": 3
   },
   "file_extension": ".py",
   "mimetype": "text/x-python",
   "name": "python",
   "nbconvert_exporter": "python",
   "pygments_lexer": "ipython3",
   "version": "3.7.9"
  }
 },
 "nbformat": 4,
 "nbformat_minor": 4
}
